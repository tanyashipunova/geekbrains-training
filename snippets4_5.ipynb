{
  "nbformat": 4,
  "nbformat_minor": 0,
  "metadata": {
    "colab": {
      "name": "snippets4-5.ipynb",
      "provenance": [],
      "collapsed_sections": [],
      "authorship_tag": "ABX9TyMYn2FB3tiNLkd1JChscNtS",
      "include_colab_link": true
    },
    "kernelspec": {
      "name": "python3",
      "display_name": "Python 3"
    }
  },
  "cells": [
    {
      "cell_type": "markdown",
      "metadata": {
        "id": "view-in-github",
        "colab_type": "text"
      },
      "source": [
        "<a href=\"https://colab.research.google.com/github/tanyashipunova/geekbrains-training/blob/main/snippets4_5.ipynb\" target=\"_parent\"><img src=\"https://colab.research.google.com/assets/colab-badge.svg\" alt=\"Open In Colab\"/></a>"
      ]
    },
    {
      "cell_type": "markdown",
      "metadata": {
        "id": "6JOKWzWLUm7Q"
      },
      "source": [
        "# типы данных"
      ]
    },
    {
      "cell_type": "code",
      "metadata": {
        "colab": {
          "base_uri": "https://localhost:8080/"
        },
        "id": "ThfXPNgyUl04",
        "outputId": "c26c7bc3-d9f8-4420-9b62-5f7d76ede8c6"
      },
      "source": [
        "# 4.1 индексация\r\n",
        "fruits = 'Apples'\r\n",
        "first_letter = fruits[0]\r\n",
        "print('первая буква в слове - ', first_letter)\r\n",
        "print('тип буквы в слове - ', type(first_letter))\r\n",
        "print('последняя буква в слове - ', fruits[-1])"
      ],
      "execution_count": null,
      "outputs": [
        {
          "output_type": "stream",
          "text": [
            "первая буква в слове -  A\n",
            "тип буквы в слове -  <class 'str'>\n",
            "последняя буква в слове -  s\n"
          ],
          "name": "stdout"
        }
      ]
    },
    {
      "cell_type": "code",
      "metadata": {
        "colab": {
          "base_uri": "https://localhost:8080/"
        },
        "id": "9QGGi74XU-BB",
        "outputId": "9a43f5fe-7d00-4302-9bd3-d0f977b5fc82"
      },
      "source": [
        "# 4.2 срезы\r\n",
        "fruits = 'Apples'\r\n",
        "# с 1-го по 3-й элемент слова\r\n",
        "print(fruits[1:3])\r\n",
        "# с начала строки по 3-й элемент слова\r\n",
        "print(fruits[:3])\r\n",
        "# с 3-го элемента и до конца строки\r\n",
        "print(fruits[3:])\r\n",
        "# тип среза\r\n",
        "print(type(fruits[1:3]))"
      ],
      "execution_count": null,
      "outputs": [
        {
          "output_type": "stream",
          "text": [
            "pp\n",
            "App\n",
            "les\n",
            "<class 'str'>\n"
          ],
          "name": "stdout"
        }
      ]
    },
    {
      "cell_type": "code",
      "metadata": {
        "colab": {
          "base_uri": "https://localhost:8080/"
        },
        "id": "dA8sAl6yVKTC",
        "outputId": "e51440c9-3c45-4abb-b61a-f2623e3f7821"
      },
      "source": [
        "# 4.3 методы\r\n",
        "fruits = 'Apples Pears'\r\n",
        "# содержание переменной fruits\r\n",
        "print(fruits)\r\n",
        "# длина переменной fruits\r\n",
        "print(len(fruits))\r\n",
        "# поиск какого-то фрагмента в переменной fruits\r\n",
        "print(fruits.find('123Pea'))\r\n",
        "# деление слов запятой в переменной fruits\r\n",
        "print(fruits.split())\r\n",
        "# есть ли в переменной fruits цифры\r\n",
        "print(fruits.isdigit())"
      ],
      "execution_count": null,
      "outputs": [
        {
          "output_type": "stream",
          "text": [
            "Apples Pears\n",
            "12\n",
            "-1\n",
            "['Apples', 'Pears']\n",
            "False\n"
          ],
          "name": "stdout"
        }
      ]
    },
    {
      "cell_type": "code",
      "metadata": {
        "colab": {
          "base_uri": "https://localhost:8080/"
        },
        "id": "SnjcGL9GVzWP",
        "outputId": "2d322285-bacc-4aa0-800e-2e03683f855f"
      },
      "source": [
        "# 4.4 формат\r\n",
        "fruits = 'Apples'\r\n",
        "number = 5\r\n",
        "# конкатенация\r\n",
        "tree_str = 'На дереве висит ' + str(number) + ' ' + fruits\r\n",
        "print(tree_str)\r\n",
        "# %\r\n",
        "tree_str = 'На дереве висит %d %s' % (number, fruits)\r\n",
        "print(tree_str)\r\n",
        "# формат\r\n",
        "tree_str = 'На дереве висит {} {}'.format(number, fruits)\r\n",
        "print(tree_str)"
      ],
      "execution_count": null,
      "outputs": [
        {
          "output_type": "stream",
          "text": [
            "На дереве висит 5 Apples\n",
            "На дереве висит 5 Apples\n",
            "На дереве висит 5 Apples\n"
          ],
          "name": "stdout"
        }
      ]
    },
    {
      "cell_type": "code",
      "metadata": {
        "colab": {
          "base_uri": "https://localhost:8080/"
        },
        "id": "UmpVdwT6WPjv",
        "outputId": "bd1f2ad3-e022-48eb-e3a7-4b7af4eeb920"
      },
      "source": [
        "# 4.5 примеры на find, start:end, format\r\n",
        "# составить из top5 фразу Поздравляем 1.ИВАНОВ 2.ПЕТРОВ 3.СМИРНОВ с успехом!\r\n",
        "top5 = 'Первые 5 мест в игре заняли: 1. иванов 2. петров 3. смирнов 4. орлов 5. соколов'\r\n",
        "start = top5.find('1')\r\n",
        "end = top5.find('4')\r\n",
        "top3 = top5[start:end]\r\n",
        "result = 'Поздравляем {} с успехом!'.format(top3.upper())\r\n",
        "print(result)"
      ],
      "execution_count": null,
      "outputs": [
        {
          "output_type": "stream",
          "text": [
            "Поздравляем 1. ИВАНОВ 2. ПЕТРОВ 3. СМИРНОВ  с успехом!\n"
          ],
          "name": "stdout"
        }
      ]
    },
    {
      "cell_type": "markdown",
      "metadata": {
        "id": "WywipGZ4acr9"
      },
      "source": [
        "**4.6 список: индексы, срезы, методы**\r\n",
        "\r\n",
        "---\r\n",
        "\r\n"
      ]
    },
    {
      "cell_type": "code",
      "metadata": {
        "colab": {
          "base_uri": "https://localhost:8080/"
        },
        "id": "gtrf0ocMWuva",
        "outputId": "f03b4212-585d-4f2f-94db-b83c6a5e0024"
      },
      "source": [
        "# пустой список\r\n",
        "empty_list = []\r\n",
        "# список с элементами\r\n",
        "fruits = ['apple', 'pear', 'plum']\r\n",
        "# тип списка\r\n",
        "print(type(fruits))\r\n",
        "# индексы списка\r\n",
        "print('второй фрукт в списке ', fruits[1])\r\n",
        "print('последний фрукт в списке ', fruits[-1])"
      ],
      "execution_count": null,
      "outputs": [
        {
          "output_type": "stream",
          "text": [
            "<class 'list'>\n",
            "второй фрукт в списке  pear\n",
            "последний фрукт в списке  plum\n"
          ],
          "name": "stdout"
        }
      ]
    },
    {
      "cell_type": "code",
      "metadata": {
        "colab": {
          "base_uri": "https://localhost:8080/"
        },
        "id": "U_nBc-eTa3KM",
        "outputId": "340df697-4740-4013-8c51-c78ec5df34b9"
      },
      "source": [
        "# срезы списка\r\n",
        "print(fruits[1:2])\r\n",
        "print(fruits[:2])\r\n",
        "print(fruits[1:])\r\n",
        "# длина списка\r\n",
        "print(len(fruits))"
      ],
      "execution_count": null,
      "outputs": [
        {
          "output_type": "stream",
          "text": [
            "['pear']\n",
            "['apple', 'pear']\n",
            "['pear', 'plum']\n",
            "3\n"
          ],
          "name": "stdout"
        }
      ]
    },
    {
      "cell_type": "code",
      "metadata": {
        "colab": {
          "base_uri": "https://localhost:8080/"
        },
        "id": "zPjwHrzmbi69",
        "outputId": "06176650-b3fd-42fa-efb3-12691032772a"
      },
      "source": [
        "# добавление элемента в список\r\n",
        "fruits.append('apricot')\r\n",
        "print(fruits)\r\n",
        "print(len(fruits))"
      ],
      "execution_count": null,
      "outputs": [
        {
          "output_type": "stream",
          "text": [
            "['apple', 'pear', 'plum', 'apricot']\n",
            "4\n"
          ],
          "name": "stdout"
        }
      ]
    },
    {
      "cell_type": "code",
      "metadata": {
        "colab": {
          "base_uri": "https://localhost:8080/"
        },
        "id": "yHT4d9R2a3xq",
        "outputId": "fc11770c-903c-45f3-f491-06a54c4e0e6b"
      },
      "source": [
        "# удаление элемента из списка\r\n",
        "print(fruits.pop())\r\n",
        "print(fruits)\r\n",
        "# удаление всех элементов из списка\r\n",
        "fruits.clear()\r\n",
        "print(fruits)\r\n",
        "# удаление элемента из списка\r\n",
        "fruits = ['apple', 'pear', 'plum']\r\n",
        "fruits.remove('pear')\r\n",
        "print(fruits)\r\n",
        "# удаление элемента из списка\r\n",
        "del fruits[0]\r\n",
        "print(fruits)"
      ],
      "execution_count": null,
      "outputs": [
        {
          "output_type": "stream",
          "text": [
            "apricot\n",
            "['apple', 'pear', 'plum']\n",
            "[]\n",
            "['apple', 'plum']\n",
            "['plum']\n"
          ],
          "name": "stdout"
        }
      ]
    },
    {
      "cell_type": "markdown",
      "metadata": {
        "id": "t23ZC2GQc4mS"
      },
      "source": [
        "\r\n",
        "\r\n",
        "---\r\n",
        "\r\n"
      ]
    },
    {
      "cell_type": "code",
      "metadata": {
        "colab": {
          "base_uri": "https://localhost:8080/"
        },
        "id": "QovuNH3QbqOm",
        "outputId": "2aca40a8-5d7a-4e9c-b2a7-c4d1c7666097"
      },
      "source": [
        "# 4.7 примеры c in\r\n",
        "# пример А\r\n",
        "hero = 'superman'\r\n",
        "\r\n",
        "if hero.find('man') != -1:\r\n",
        "    print('yes')\r\n",
        "\r\n",
        "if 'man' in hero:\r\n",
        "    print('yes')\r\n",
        "\r\n",
        "# пример Б\r\n",
        "goals = ['learn coding', 'find job', 'be happy']\r\n",
        "if 'be happy' in goals:\r\n",
        "    print('you set that goal')"
      ],
      "execution_count": null,
      "outputs": [
        {
          "output_type": "stream",
          "text": [
            "yes\n",
            "yes\n",
            "you set that goal\n"
          ],
          "name": "stdout"
        }
      ]
    },
    {
      "cell_type": "code",
      "metadata": {
        "colab": {
          "base_uri": "https://localhost:8080/"
        },
        "id": "gZGn7ffqdRyw",
        "outputId": "9e3a3b3c-5479-424e-a903-8301ab340b14"
      },
      "source": [
        "# 4.8 программа Победители \r\n",
        "# ввести количество участников игры и их места\r\n",
        "# вывести на экран имена участников по алфавиту\r\n",
        "# поздравить 3-х победителей\r\n",
        "print('ИГРА')\r\n",
        "count = int(input('Введите количество участников: '))\r\n",
        "i = count\r\n",
        "members = []\r\n",
        "while i > 0:\r\n",
        "    name = input('Кто занял {} место? '.format(i))\r\n",
        "    members.append(name)\r\n",
        "    i-=1\r\n",
        "print('В игре участвовали: ', sorted(members))\r\n",
        "members.reverse()\r\n",
        "result = members[:3]\r\n",
        "result = 'Победители: {}. Поздравляем!'.format(members)\r\n",
        "print(result)"
      ],
      "execution_count": null,
      "outputs": [
        {
          "output_type": "stream",
          "text": [
            "ИГРА\n",
            "Введите количество участников: 3\n",
            "Кто занял 3 место? anna\n",
            "Кто занял 2 место? bella\n",
            "Кто занял 1 место? ella\n",
            "В игре участвовали:  ['anna', 'bella', 'ella']\n",
            "Победители: ['ella', 'bella', 'anna']. Поздравляем!\n"
          ],
          "name": "stdout"
        }
      ]
    },
    {
      "cell_type": "markdown",
      "metadata": {
        "id": "Com0nRuPfI1r"
      },
      "source": [
        "**4.9 последовательности string, list, tuple**\r\n",
        "\r\n",
        "---\r\n",
        "\r\n"
      ]
    },
    {
      "cell_type": "code",
      "metadata": {
        "colab": {
          "base_uri": "https://localhost:8080/"
        },
        "id": "lKtwMZ4MfKFi",
        "outputId": "2b6d3eb0-34a1-4211-ab8e-b82788e30f67"
      },
      "source": [
        "fruit = 'apple'\r\n",
        "fruits = ['apple', 'pear', 'plum']\r\n",
        "color = ('red', 'green', 'yellow')\r\n",
        "# типы данных\r\n",
        "print(type(fruit))\r\n",
        "print(type(fruits))\r\n",
        "print(type(color))"
      ],
      "execution_count": null,
      "outputs": [
        {
          "output_type": "stream",
          "text": [
            "<class 'str'>\n",
            "<class 'list'>\n",
            "<class 'tuple'>\n"
          ],
          "name": "stdout"
        }
      ]
    },
    {
      "cell_type": "code",
      "metadata": {
        "colab": {
          "base_uri": "https://localhost:8080/"
        },
        "id": "5I4NS-55fbqH",
        "outputId": "80ae036c-afd3-4e24-f851-f0e243324be6"
      },
      "source": [
        "# индексация\r\n",
        "print(fruit[1])\r\n",
        "print(fruits[1])\r\n",
        "print(color[1])\r\n",
        "# срезы\r\n",
        "print(fruit[1:])\r\n",
        "print(fruits[1:])\r\n",
        "print(color[1:])\r\n",
        "# длина\r\n",
        "print(len(fruit))\r\n",
        "print(len(fruits))\r\n",
        "print(len(color))"
      ],
      "execution_count": null,
      "outputs": [
        {
          "output_type": "stream",
          "text": [
            "p\n",
            "pear\n",
            "green\n",
            "pple\n",
            "['pear', 'plum']\n",
            "('green', 'yellow')\n",
            "5\n",
            "3\n",
            "3\n"
          ],
          "name": "stdout"
        }
      ]
    },
    {
      "cell_type": "code",
      "metadata": {
        "colab": {
          "base_uri": "https://localhost:8080/"
        },
        "id": "zJ2TBfEke7yQ",
        "outputId": "42587b7e-97d6-465f-b952-b1927637016d"
      },
      "source": [
        "# примеры с if, while, for\r\n",
        "if 'a' in fruit:\r\n",
        "    print('the fruit contains letter \"a\".')\r\n",
        "if 'plum' in fruits:\r\n",
        "    print('такой фрукт есть.')\r\n",
        "\r\n",
        "print(' ')\r\n",
        "\r\n",
        "i = 0\r\n",
        "while i < len(fruits):\r\n",
        "    afruit = fruits[i]\r\n",
        "    print(afruit)\r\n",
        "    i+=1\r\n",
        "\r\n",
        "print(' ')\r\n",
        "\r\n",
        "for afruit in fruits:\r\n",
        "    print(afruit)\r\n",
        "print('end')\r\n"
      ],
      "execution_count": null,
      "outputs": [
        {
          "output_type": "stream",
          "text": [
            "the fruit contains letter \"a\".\n",
            "такой фрукт есть.\n",
            " \n",
            "apple\n",
            "pear\n",
            "plum\n",
            " \n",
            "apple\n",
            "pear\n",
            "plum\n",
            "end\n"
          ],
          "name": "stdout"
        }
      ]
    },
    {
      "cell_type": "markdown",
      "metadata": {
        "id": "pJ9A24s3hYAa"
      },
      "source": [
        "\r\n",
        "\r\n",
        "---\r\n",
        "\r\n"
      ]
    },
    {
      "cell_type": "markdown",
      "metadata": {
        "id": "FPC2m6RHh5qV"
      },
      "source": [
        "**4.10 примеры c range**"
      ]
    },
    {
      "cell_type": "code",
      "metadata": {
        "colab": {
          "base_uri": "https://localhost:8080/"
        },
        "id": "dnobdvOIh-KW",
        "outputId": "d03137ab-7450-4926-a59d-9e749675f2f8"
      },
      "source": [
        "winners = ['Anna', 'Ella', 'Bella']\r\n",
        "# пример А1\r\n",
        "for winner in winners:\r\n",
        "    print(winner)"
      ],
      "execution_count": null,
      "outputs": [
        {
          "output_type": "stream",
          "text": [
            "Anna\n",
            "Ella\n",
            "Bella\n"
          ],
          "name": "stdout"
        }
      ]
    },
    {
      "cell_type": "code",
      "metadata": {
        "colab": {
          "base_uri": "https://localhost:8080/"
        },
        "id": "2Cpq1Z-QiGhe",
        "outputId": "c9982f4e-e941-4a8d-ab2f-fcbf0aa30169"
      },
      "source": [
        "# пример А2\r\n",
        "for i in range(len(winners)):\r\n",
        "    print(i+1, ')', winners[i])"
      ],
      "execution_count": null,
      "outputs": [
        {
          "output_type": "stream",
          "text": [
            "1 ) Anna\n",
            "2 ) Ella\n",
            "3 ) Bella\n"
          ],
          "name": "stdout"
        }
      ]
    },
    {
      "cell_type": "code",
      "metadata": {
        "colab": {
          "base_uri": "https://localhost:8080/"
        },
        "id": "naCrWU1aiQIP",
        "outputId": "e12f1e2d-f801-4210-cab7-9319a7c45715"
      },
      "source": [
        "# пример А3\r\n",
        "for i in range(1, len(winners)+1):\r\n",
        "    print(i, ')', winners[i-1])"
      ],
      "execution_count": null,
      "outputs": [
        {
          "output_type": "stream",
          "text": [
            "1 ) Anna\n",
            "2 ) Ella\n",
            "3 ) Bella\n"
          ],
          "name": "stdout"
        }
      ]
    },
    {
      "cell_type": "code",
      "metadata": {
        "colab": {
          "base_uri": "https://localhost:8080/"
        },
        "id": "x-dqTubVibQi",
        "outputId": "213b61cc-7899-4ae5-daf3-780c4d4fcbdd"
      },
      "source": [
        "# пример Б1\r\n",
        "numbers = [2, 6, 8]\r\n",
        "for number in numbers:\r\n",
        "    print(number)"
      ],
      "execution_count": null,
      "outputs": [
        {
          "output_type": "stream",
          "text": [
            "2\n",
            "6\n",
            "8\n"
          ],
          "name": "stdout"
        }
      ]
    },
    {
      "cell_type": "code",
      "metadata": {
        "colab": {
          "base_uri": "https://localhost:8080/"
        },
        "id": "74EWLb16ifa1",
        "outputId": "ed5bcd69-5536-4082-b521-fdafa1a6845a"
      },
      "source": [
        "# пример Б2\r\n",
        "numbers = range(10)\r\n",
        "print(numbers)\r\n",
        "print(type(numbers))\r\n",
        "print(list(numbers))"
      ],
      "execution_count": null,
      "outputs": [
        {
          "output_type": "stream",
          "text": [
            "range(0, 10)\n",
            "<class 'range'>\n",
            "[0, 1, 2, 3, 4, 5, 6, 7, 8, 9]\n"
          ],
          "name": "stdout"
        }
      ]
    },
    {
      "cell_type": "code",
      "metadata": {
        "colab": {
          "base_uri": "https://localhost:8080/"
        },
        "id": "WeWA207ehY-T",
        "outputId": "5ef9ce88-ba1b-45b5-ad3d-3b0c13b36311"
      },
      "source": [
        "# пример В - вывести нечетные числа\r\n",
        "numbers = [1, 3, 5, 7, 9]\r\n",
        "for number in numbers:\r\n",
        "    print(number)\r\n",
        "\r\n",
        "print(list(range(1, 10, 2)))\r\n",
        "\r\n",
        "for number in range(1, 10, 2):\r\n",
        "    print(number)"
      ],
      "execution_count": null,
      "outputs": [
        {
          "output_type": "stream",
          "text": [
            "1\n",
            "3\n",
            "5\n",
            "7\n",
            "9\n",
            "[1, 3, 5, 7, 9]\n",
            "1\n",
            "3\n",
            "5\n",
            "7\n",
            "9\n"
          ],
          "name": "stdout"
        }
      ]
    },
    {
      "cell_type": "markdown",
      "metadata": {
        "id": "XN1m4eEji7eB"
      },
      "source": [
        "---"
      ]
    },
    {
      "cell_type": "markdown",
      "metadata": {
        "id": "pQe1GPzDjL7y"
      },
      "source": [
        "**4.11 примеры c dir**"
      ]
    },
    {
      "cell_type": "code",
      "metadata": {
        "colab": {
          "base_uri": "https://localhost:8080/"
        },
        "id": "SoaY66kajP06",
        "outputId": "824f0277-65f4-42bf-b814-6b529521df26"
      },
      "source": [
        "pie = ['cherry', 'flour', 'egg', 'butter', 'milk', 'sugar']\r\n",
        "print(pie)\r\n",
        "print(type(pie))\r\n",
        "pie_ingredient = pie[0]\r\n",
        "print(pie_ingredient)\r\n",
        "print(type(pie_ingredient))"
      ],
      "execution_count": null,
      "outputs": [
        {
          "output_type": "stream",
          "text": [
            "['cherry', 'flour', 'egg', 'butter', 'milk', 'sugar']\n",
            "<class 'list'>\n",
            "cherry\n",
            "<class 'str'>\n"
          ],
          "name": "stdout"
        }
      ]
    },
    {
      "cell_type": "code",
      "metadata": {
        "colab": {
          "base_uri": "https://localhost:8080/"
        },
        "id": "517vbUFyjbyS",
        "outputId": "c8eadf3f-3b7b-4f3b-a22f-6d8e95f46107"
      },
      "source": [
        "# добавим описание ингредиентов пирога\r\n",
        "pie_ingredient = {\r\n",
        "    'ingredient': 'cherry',\r\n",
        "    'grams': 500\r\n",
        "}\r\n",
        "print(pie_ingredient)\r\n",
        "print(type(pie_ingredient))\r\n",
        "print(pie_ingredient['grams'])\r\n",
        "\r\n",
        "pie_ingredient['stone'] = False\r\n",
        "print(pie_ingredient)\r\n",
        "\r\n",
        "del pie_ingredient['stone']\r\n",
        "print(pie_ingredient)\r\n",
        "\r\n",
        "if 'grams' in pie_ingredient:\r\n",
        "    print('в рецепте указаны граммы')"
      ],
      "execution_count": null,
      "outputs": [
        {
          "output_type": "stream",
          "text": [
            "{'ingredient': 'cherry', 'grams': 500}\n",
            "<class 'dict'>\n",
            "500\n",
            "{'ingredient': 'cherry', 'grams': 500, 'stone': False}\n",
            "{'ingredient': 'cherry', 'grams': 500}\n",
            "в рецепте указаны граммы\n"
          ],
          "name": "stdout"
        }
      ]
    },
    {
      "cell_type": "code",
      "metadata": {
        "colab": {
          "base_uri": "https://localhost:8080/"
        },
        "id": "h6zhPUNNj242",
        "outputId": "57a9191e-68d2-466f-80d3-29a4b1f3179b"
      },
      "source": [
        "# по ключам\r\n",
        "for key in pie_ingredient.keys():\r\n",
        "    print(key)\r\n",
        "    print(pie_ingredient[key])\r\n",
        "print('')\r\n",
        "for key in pie_ingredient:\r\n",
        "    print(key)\r\n",
        "    print(pie_ingredient[key])"
      ],
      "execution_count": null,
      "outputs": [
        {
          "output_type": "stream",
          "text": [
            "ingredient\n",
            "cherry\n",
            "grams\n",
            "500\n",
            "\n",
            "ingredient\n",
            "cherry\n",
            "grams\n",
            "500\n"
          ],
          "name": "stdout"
        }
      ]
    },
    {
      "cell_type": "code",
      "metadata": {
        "colab": {
          "base_uri": "https://localhost:8080/"
        },
        "id": "a6XPyRxDi8oo",
        "outputId": "41c7f3dd-cd05-41b2-b937-484fa30bea4a"
      },
      "source": [
        "# по значениям\r\n",
        "for val in pie_ingredient.values():\r\n",
        "    print(val)\r\n",
        "print('')\r\n",
        "# по ключам и значениям\r\n",
        "for item in pie_ingredient.items():\r\n",
        "    print(item)\r\n",
        "print('')\r\n",
        "for key, val in pie_ingredient.items():\r\n",
        "    print(key)\r\n",
        "    print(val)"
      ],
      "execution_count": null,
      "outputs": [
        {
          "output_type": "stream",
          "text": [
            "cherry\n",
            "500\n",
            "\n",
            "('ingredient', 'cherry')\n",
            "('grams', 500)\n",
            "\n",
            "ingredient\n",
            "cherry\n",
            "grams\n",
            "500\n"
          ],
          "name": "stdout"
        }
      ]
    },
    {
      "cell_type": "markdown",
      "metadata": {
        "id": "-plevdinkcFS"
      },
      "source": [
        "\r\n",
        "\r\n",
        "---\r\n",
        "**4.12 пример c set**\r\n",
        "\r\n"
      ]
    },
    {
      "cell_type": "code",
      "metadata": {
        "colab": {
          "base_uri": "https://localhost:8080/"
        },
        "id": "Ejbfx3DSk48T",
        "outputId": "e7bd3b35-1255-4755-bbc7-cf282ccf6fef"
      },
      "source": [
        "pie = ['cherry', 'flour', 'egg', 'butter', 'milk', 'sugar', 'egg']\r\n",
        "print(pie)\r\n",
        "print(type(pie))\r\n",
        "print('')\r\n",
        "pie = set(pie)\r\n",
        "print(pie)\r\n",
        "print(type(pie))"
      ],
      "execution_count": null,
      "outputs": [
        {
          "output_type": "stream",
          "text": [
            "['cherry', 'flour', 'egg', 'butter', 'milk', 'sugar', 'egg']\n",
            "<class 'list'>\n",
            "\n",
            "{'egg', 'butter', 'cherry', 'sugar', 'flour', 'milk'}\n",
            "<class 'set'>\n"
          ],
          "name": "stdout"
        }
      ]
    },
    {
      "cell_type": "code",
      "metadata": {
        "colab": {
          "base_uri": "https://localhost:8080/"
        },
        "id": "LkrqpapQleoU",
        "outputId": "166f956c-0467-4847-e795-3bdd096341b3"
      },
      "source": [
        "pie = {'cherry', 'flour', 'egg', 'butter', 'milk', 'sugar'}\r\n",
        "print(pie)\r\n",
        "print(type(pie))"
      ],
      "execution_count": null,
      "outputs": [
        {
          "output_type": "stream",
          "text": [
            "{'egg', 'butter', 'cherry', 'sugar', 'flour', 'milk'}\n",
            "<class 'set'>\n"
          ],
          "name": "stdout"
        }
      ]
    },
    {
      "cell_type": "code",
      "metadata": {
        "colab": {
          "base_uri": "https://localhost:8080/"
        },
        "id": "xOjj-3HFlhJX",
        "outputId": "50a56808-d417-4818-a23a-e6843fcca766"
      },
      "source": [
        "pie.add('chocolate')\r\n",
        "print(pie)\r\n",
        "pie.add('cherry')\r\n",
        "print(pie)"
      ],
      "execution_count": null,
      "outputs": [
        {
          "output_type": "stream",
          "text": [
            "{'egg', 'butter', 'cherry', 'sugar', 'chocolate', 'flour', 'milk'}\n",
            "{'egg', 'butter', 'cherry', 'sugar', 'chocolate', 'flour', 'milk'}\n"
          ],
          "name": "stdout"
        }
      ]
    },
    {
      "cell_type": "code",
      "metadata": {
        "colab": {
          "base_uri": "https://localhost:8080/"
        },
        "id": "MTOTmJlekc7j",
        "outputId": "5e11312b-55f1-4636-e00e-0296b557cb5a"
      },
      "source": [
        "pie.remove('cherry')\r\n",
        "print(pie)\r\n",
        "print(len(pie))\r\n",
        "print('')\r\n",
        "print('milk' in pie)\r\n",
        "print('')\r\n",
        "for pie_ingredients in pie:\r\n",
        "    print(pie_ingredients)"
      ],
      "execution_count": null,
      "outputs": [
        {
          "output_type": "stream",
          "text": [
            "{'egg', 'butter', 'sugar', 'chocolate', 'flour', 'milk'}\n",
            "6\n",
            "\n",
            "True\n",
            "\n",
            "egg\n",
            "butter\n",
            "sugar\n",
            "chocolate\n",
            "flour\n",
            "milk\n"
          ],
          "name": "stdout"
        }
      ]
    },
    {
      "cell_type": "markdown",
      "metadata": {
        "id": "RQFgpMYQl_vX"
      },
      "source": [
        "\r\n",
        "\r\n",
        "---\r\n",
        "\r\n",
        "**4.13 пример c set**"
      ]
    },
    {
      "cell_type": "code",
      "metadata": {
        "colab": {
          "base_uri": "https://localhost:8080/"
        },
        "id": "zSIbsBbUmEkX",
        "outputId": "4c9b6fc8-c8ce-422f-c027-22d16383a48f"
      },
      "source": [
        "# Аня и Эля собираются приготовить пироги. У каждой - свой рецепт.\r\n",
        "# Аня берет:\r\n",
        "anna_ingredients = {'cherry', 'flour', 'egg', 'butter', 'milk', 'sugar'}\r\n",
        "# Эля берет:\r\n",
        "ella_ingredients = {'chocolate', 'flour', 'egg', 'butter', 'kefir', 'sugar'}\r\n",
        "\r\n",
        "# какие ингредиенты взяли Аня и Эля?\r\n",
        "print(anna_ingredients | ella_ingredients)\r\n",
        "# какие ингредиенты повторяются?\r\n",
        "print(anna_ingredients & ella_ingredients)\r\n",
        "# какие ингредиенты взяла Аня, но не взяла Эля?\r\n",
        "print(anna_ingredients - ella_ingredients)\r\n",
        "# какие ингредиенты взяла Эля, но не взяла Аня?\r\n",
        "print(ella_ingredients - anna_ingredients)"
      ],
      "execution_count": null,
      "outputs": [
        {
          "output_type": "stream",
          "text": [
            "{'egg', 'kefir', 'butter', 'cherry', 'sugar', 'chocolate', 'flour', 'milk'}\n",
            "{'sugar', 'flour', 'egg', 'butter'}\n",
            "{'cherry', 'milk'}\n",
            "{'chocolate', 'kefir'}\n"
          ],
          "name": "stdout"
        }
      ]
    },
    {
      "cell_type": "markdown",
      "metadata": {
        "id": "Thns25wRmbbM"
      },
      "source": [
        "\r\n",
        "\r\n",
        "---\r\n",
        "\r\n",
        "4.14 Даны два произвольных списка. Удалите из первого списка элементы присутствующие во втором списке."
      ]
    },
    {
      "cell_type": "code",
      "metadata": {
        "colab": {
          "base_uri": "https://localhost:8080/"
        },
        "id": "jfPpbKt_mZ9Y",
        "outputId": "dbac4145-9158-4aac-e087-b2b79ae84902"
      },
      "source": [
        "my_list_1 = [2, 5, 8, 2, 12, 12, 4]\r\n",
        "my_list_2 = [2, 7, 12, 3]\r\n",
        "for num in my_list_1[:]:\r\n",
        "    if num in my_list_2:\r\n",
        "\t      my_list_1.remove(num)\r\n",
        "print(my_list_1)   "
      ],
      "execution_count": null,
      "outputs": [
        {
          "output_type": "stream",
          "text": [
            "[5, 8, 4]\n"
          ],
          "name": "stdout"
        }
      ]
    },
    {
      "cell_type": "markdown",
      "metadata": {
        "id": "9Gy5RPe0nRq7"
      },
      "source": [
        "\r\n",
        "\r\n",
        "---\r\n",
        "\r\n",
        "4.15 Дана дата в формате dd.mm.yyyy, например: 05.12.2013. Ваша задача — вывести дату в текстовом виде, например: пятое декабря 2013 года. Склонением пренебречь."
      ]
    },
    {
      "cell_type": "code",
      "metadata": {
        "colab": {
          "base_uri": "https://localhost:8080/"
        },
        "id": "JjAYQ1JVnaqB",
        "outputId": "bc4f2bf7-47d4-43f3-977c-c1c335a2605e"
      },
      "source": [
        "date = '15.12.2017'\r\n",
        "d, m, y = date.split('.')\r\n",
        "print(d, m, y)\r\n",
        "days = {\r\n",
        "    '15': 'пятнадцатое'    \r\n",
        "}\r\n",
        "months = {\r\n",
        "    '12': 'декабря'    \r\n",
        "}\r\n",
        "result = f'{days[d]} {months[m]} {y} года.'\r\n",
        "print(result)"
      ],
      "execution_count": null,
      "outputs": [
        {
          "output_type": "stream",
          "text": [
            "15 12 2017\n",
            "пятнадцатое декабря 2017 года.\n"
          ],
          "name": "stdout"
        }
      ]
    },
    {
      "cell_type": "markdown",
      "metadata": {
        "id": "LuXE06w5nPHS"
      },
      "source": [
        "\r\n",
        "\r\n",
        "---\r\n",
        "4.16 Cоздайте вручную список, заполненный произвольными целыми числами.\r\n",
        "Получите новый список, элементами которого будут только неповторяющиеся элементы исходного."
      ]
    },
    {
      "cell_type": "code",
      "metadata": {
        "colab": {
          "base_uri": "https://localhost:8080/"
        },
        "id": "8JhZOcb56I-w",
        "outputId": "eddb1554-fd47-4055-9a6a-b27dca0cd73b"
      },
      "source": [
        "my_list_1 = [2, 2, 5, 12, 8, 2, 12]\r\n",
        "result = []\r\n",
        "for number in my_list_1:\r\n",
        "    if my_list_1.count(number) == 1:\r\n",
        "\t      result.append(number)\r\n",
        "print(result)"
      ],
      "execution_count": 79,
      "outputs": [
        {
          "output_type": "stream",
          "text": [
            "[5, 8]\n"
          ],
          "name": "stdout"
        }
      ]
    }
  ]
}
{
  "nbformat": 4,
  "nbformat_minor": 0,
  "metadata": {
    "colab": {
      "name": "snippets8-9.ipynb",
      "provenance": [],
      "authorship_tag": "ABX9TyNMvIhaXPWrUkIPgbMWyujT",
      "include_colab_link": true
    },
    "kernelspec": {
      "name": "python3",
      "display_name": "Python 3"
    }
  },
  "cells": [
    {
      "cell_type": "markdown",
      "metadata": {
        "id": "view-in-github",
        "colab_type": "text"
      },
      "source": [
        "<a href=\"https://colab.research.google.com/github/tanyashipunova/geekbrains-training/blob/main/snippets8_9.ipynb\" target=\"_parent\"><img src=\"https://colab.research.google.com/assets/colab-badge.svg\" alt=\"Open In Colab\"/></a>"
      ]
    },
    {
      "cell_type": "markdown",
      "metadata": {
        "id": "-jIVLGWEYpb3"
      },
      "source": [
        "# 8.1 функции"
      ]
    },
    {
      "cell_type": "code",
      "metadata": {
        "id": "mLDmgVS8Yjxb"
      },
      "source": [
        "# функция печати с параметром\r\n",
        "print('привет мир')\r\n",
        "\r\n",
        "# функция ввода без параметра\r\n",
        "name = input()\r\n",
        "\r\n",
        "# функция типа переменной с параметром\r\n",
        "t = type(12345)\r\n",
        "\r\n",
        "# функция диапозона\r\n",
        "r = range(12)\r\n",
        "\r\n",
        "# функция длины последовательности\r\n",
        "len([1, 2, 3, 4, 5])\r\n",
        "\r\n",
        "# функция преобразования типов\r\n",
        "int('2')\r\n",
        "str(5)"
      ],
      "execution_count": null,
      "outputs": []
    },
    {
      "cell_type": "code",
      "metadata": {
        "colab": {
          "base_uri": "https://localhost:8080/"
        },
        "id": "yLugQqIMZFQl",
        "outputId": "37cd7e76-b839-47fd-8f02-76c3e18727df"
      },
      "source": [
        "# встроенные функции\r\n",
        "print('модуль числа ', abs(-5))\r\n",
        "print('')\r\n",
        "numbers = [2, 6, 10, -8, 0]\r\n",
        "print('максимальное число ', max(numbers))\r\n",
        "print('миниимальное число ', min(numbers))\r\n",
        "print('сумма чисел ', sum(numbers))\r\n",
        "print('')\r\n",
        "print('округление числа ', round(5.26, 2))\r\n",
        "print('')\r\n",
        "print('реализация функции enumerate: ')\r\n",
        "fruits = ['apple', 'pear', 'plum']\r\n",
        "for number, fruit in enumerate(fruits, 1):\r\n",
        "    print(number, fruit)"
      ],
      "execution_count": 8,
      "outputs": [
        {
          "output_type": "stream",
          "text": [
            "модуль числа  5\n",
            "\n",
            "максимальное число  10\n",
            "миниимальное число  -8\n",
            "сумма чисел  10\n",
            "\n",
            "округление числа  5.26\n",
            "\n",
            "реализация функции enumerate: \n",
            "1 apple\n",
            "2 pear\n",
            "3 plum\n"
          ],
          "name": "stdout"
        }
      ]
    },
    {
      "cell_type": "code",
      "metadata": {
        "colab": {
          "base_uri": "https://localhost:8080/"
        },
        "id": "djUWS_JCaCry",
        "outputId": "03ce265e-0111-416a-e9a8-34ce61ffd187"
      },
      "source": [
        "# человек вводит числа. вывести на экран мин, макс и сумму.\r\n",
        "numbers = []\r\n",
        "for i in range(3):\r\n",
        "    number = int(input('введите число: '))\r\n",
        "    numbers.append(number)\r\n",
        "print('максимальное число ', max(numbers))\r\n",
        "print('миниимальное число ', min(numbers))\r\n",
        "print('сумма чисел ', sum(numbers))"
      ],
      "execution_count": 10,
      "outputs": [
        {
          "output_type": "stream",
          "text": [
            "введите число: 25\n",
            "введите число: 52\n",
            "введите число: 225\n",
            "максимальное число  225\n",
            "миниимальное число  25\n",
            "сумма чисел  302\n"
          ],
          "name": "stdout"
        }
      ]
    },
    {
      "cell_type": "markdown",
      "metadata": {
        "id": "cTz4TD0DaSvl"
      },
      "source": [
        "# 8.2 свои функции. примеры."
      ]
    },
    {
      "cell_type": "code",
      "metadata": {
        "colab": {
          "base_uri": "https://localhost:8080/"
        },
        "id": "0hQcB3KyaaQ-",
        "outputId": "d355b8b7-9de9-481f-debf-1b5c478d3b6e"
      },
      "source": [
        "# 8.2а функция печати разделителя\r\n",
        "print('пример своей функции')\r\n",
        "print('*' * 50)\r\n",
        "print('прекрасно')\r\n",
        "print('*' * 50)\r\n",
        "print('а если таких разделителей будет много?')\r\n",
        "print('*' * 50)\r\n",
        "print('*' * 50)\r\n",
        "print('*' * 50)"
      ],
      "execution_count": 11,
      "outputs": [
        {
          "output_type": "stream",
          "text": [
            "пример своей функции\n",
            "**************************************************\n",
            "прекрасно\n",
            "**************************************************\n",
            "а если таких разделителей будет много?\n",
            "**************************************************\n",
            "**************************************************\n",
            "**************************************************\n"
          ],
          "name": "stdout"
        }
      ]
    },
    {
      "cell_type": "code",
      "metadata": {
        "colab": {
          "base_uri": "https://localhost:8080/"
        },
        "id": "ha16A_73ad9t",
        "outputId": "338cf28f-111d-4205-be92-ca57af2655ae"
      },
      "source": [
        "# 8.2б функция разделителя\r\n",
        "def print_sep():\r\n",
        "    print('*' * 50)\r\n",
        "\r\n",
        "print('пример своей функции')\r\n",
        "print_sep()\r\n",
        "print('прекрасно')\r\n",
        "print_sep()\r\n",
        "print('а если таких разделителей будет много?')\r\n",
        "print_sep()\r\n",
        "print_sep()\r\n",
        "print_sep()"
      ],
      "execution_count": 13,
      "outputs": [
        {
          "output_type": "stream",
          "text": [
            "пример своей функции\n",
            "**************************************************\n",
            "прекрасно\n",
            "**************************************************\n",
            "а если таких разделителей будет много?\n",
            "**************************************************\n",
            "**************************************************\n",
            "**************************************************\n"
          ],
          "name": "stdout"
        }
      ]
    },
    {
      "cell_type": "code",
      "metadata": {
        "colab": {
          "base_uri": "https://localhost:8080/"
        },
        "id": "wMTGsZBWakQb",
        "outputId": "bc888c5d-77cc-4fd5-9791-4dd6ff95e53e"
      },
      "source": [
        "# 8.2в функция с варьированием знака разделителя\r\n",
        "def print_sep(sep):\r\n",
        "    print(sep * 50)\r\n",
        "print_sep('*')\r\n",
        "print_sep('-')"
      ],
      "execution_count": 15,
      "outputs": [
        {
          "output_type": "stream",
          "text": [
            "**************************************************\n",
            "--------------------------------------------------\n"
          ],
          "name": "stdout"
        }
      ]
    },
    {
      "cell_type": "code",
      "metadata": {
        "colab": {
          "base_uri": "https://localhost:8080/"
        },
        "id": "E8838jMtaqN2",
        "outputId": "df8f639e-8a3c-45ce-fce0-99577be8ca6b"
      },
      "source": [
        "# 8.2г функция с варьированием знака и длины разделителя\r\n",
        "def print_sep(sep, sep_len):\r\n",
        "    print(sep * sep_len)\r\n",
        "print_sep('*', 55)\r\n",
        "print_sep('-', 105)"
      ],
      "execution_count": 16,
      "outputs": [
        {
          "output_type": "stream",
          "text": [
            "*******************************************************\n",
            "---------------------------------------------------------------------------------------------------------\n"
          ],
          "name": "stdout"
        }
      ]
    },
    {
      "cell_type": "code",
      "metadata": {
        "colab": {
          "base_uri": "https://localhost:8080/"
        },
        "id": "qNiP14PNaNQk",
        "outputId": "a38ffa37-533d-4838-adcd-f287a7a0b253"
      },
      "source": [
        "# 8.2д функция разделителя в тексте\r\n",
        "def get_sep(sep, sep_len):\r\n",
        "    return sep * sep_len\r\n",
        "\r\n",
        "sep = get_sep('*', 55)\r\n",
        "text = 'привет {} мир {}'.format(sep, sep)\r\n",
        "\r\n",
        "print(text)"
      ],
      "execution_count": 23,
      "outputs": [
        {
          "output_type": "stream",
          "text": [
            "привет ******************************************************* мир *******************************************************\n"
          ],
          "name": "stdout"
        }
      ]
    },
    {
      "cell_type": "markdown",
      "metadata": {
        "id": "caiJt-G1d2OV"
      },
      "source": [
        "# 8.3 аргументы функции. примеры."
      ]
    },
    {
      "cell_type": "code",
      "metadata": {
        "colab": {
          "base_uri": "https://localhost:8080/"
        },
        "id": "oVqy-M2Cd5mU",
        "outputId": "2c048637-62c9-46c6-b330-94b8ce726900"
      },
      "source": [
        "# 8.3а\r\n",
        "def eat_berry():\r\n",
        "    print('eat', 'berry')\r\n",
        "\r\n",
        "eat_berry()"
      ],
      "execution_count": 24,
      "outputs": [
        {
          "output_type": "stream",
          "text": [
            "eat berry\n"
          ],
          "name": "stdout"
        }
      ]
    },
    {
      "cell_type": "code",
      "metadata": {
        "colab": {
          "base_uri": "https://localhost:8080/"
        },
        "id": "5q-nYi2veK6u",
        "outputId": "5b3db0b9-cd29-4472-d738-7b611ad23cf5"
      },
      "source": [
        "# 8.3б\r\n",
        "def eat(berry):\r\n",
        "    print('eat', berry)\r\n",
        "\r\n",
        "eat('cherry')\r\n",
        "eat('strawberry')"
      ],
      "execution_count": 25,
      "outputs": [
        {
          "output_type": "stream",
          "text": [
            "eat cherry\n",
            "eat strawberry\n"
          ],
          "name": "stdout"
        }
      ]
    },
    {
      "cell_type": "code",
      "metadata": {
        "colab": {
          "base_uri": "https://localhost:8080/"
        },
        "id": "bCgxZNeles4N",
        "outputId": "a1aa33a3-b616-40d3-a210-6ec948988f35"
      },
      "source": [
        "# 8.3в\r\n",
        "def breakfast(do, what):\r\n",
        "    print(do, what)\r\n",
        "\r\n",
        "breakfast('eat', 'omelet')\r\n",
        "breakfast('drink', 'tea')"
      ],
      "execution_count": 26,
      "outputs": [
        {
          "output_type": "stream",
          "text": [
            "eat omelet\n",
            "drink tea\n"
          ],
          "name": "stdout"
        }
      ]
    },
    {
      "cell_type": "code",
      "metadata": {
        "colab": {
          "base_uri": "https://localhost:8080/"
        },
        "id": "7iVdi7WYeyL7",
        "outputId": "aefa0ebc-399e-4ed0-b972-863731d87d74"
      },
      "source": [
        "# 8.3г\r\n",
        "def breakfast(what, do='eat'):\r\n",
        "    print(do, what)\r\n",
        "\r\n",
        "breakfast('omelet', 'skip')\r\n",
        "breakfast('bread with butter')"
      ],
      "execution_count": 31,
      "outputs": [
        {
          "output_type": "stream",
          "text": [
            "skip omelet\n",
            "eat bread with butter\n"
          ],
          "name": "stdout"
        }
      ]
    },
    {
      "cell_type": "code",
      "metadata": {
        "colab": {
          "base_uri": "https://localhost:8080/"
        },
        "id": "8TcuvFRJgLnL",
        "outputId": "3dbc8b2d-f168-4177-b667-27ae39459f30"
      },
      "source": [
        "# 8.3д\r\n",
        "def breakfast(do, *args):\r\n",
        "    print(do, args)\r\n",
        "\r\n",
        "breakfast('eat', 'omelet')\r\n",
        "breakfast('eat', 'omelet', 'bread with butter')\r\n",
        "breakfast('eat', 'omelet', 'bread with butter', 'cheese')"
      ],
      "execution_count": 32,
      "outputs": [
        {
          "output_type": "stream",
          "text": [
            "eat ('omelet',)\n",
            "eat ('omelet', 'bread with butter')\n",
            "eat ('omelet', 'bread with butter', 'cheese')\n"
          ],
          "name": "stdout"
        }
      ]
    },
    {
      "cell_type": "code",
      "metadata": {
        "colab": {
          "base_uri": "https://localhost:8080/"
        },
        "id": "CzJJcThBgf3-",
        "outputId": "181da332-84e9-4139-c42b-fe2483e420b7"
      },
      "source": [
        "# 8.3е\r\n",
        "def breakfast_gram(**kwargs):\r\n",
        "    for a, b in kwargs.items():\r\n",
        "\t      print(a, b)\r\n",
        "\r\n",
        "print('i need the following ingredients for breakfast: ')\r\n",
        "breakfast_gram(ingredient='bread', gram=125, quantity=2)\r\n",
        "print('*' * 15)\r\n",
        "breakfast_gram(ingredient='eggs', gram=150, quantity=3)"
      ],
      "execution_count": 35,
      "outputs": [
        {
          "output_type": "stream",
          "text": [
            "i need the following ingredients for breakfast: \n",
            "ingredient bread\n",
            "gram 125\n",
            "quantity 2\n",
            "***************\n",
            "ingredient eggs\n",
            "gram 150\n",
            "quantity 3\n"
          ],
          "name": "stdout"
        }
      ]
    },
    {
      "cell_type": "markdown",
      "metadata": {
        "id": "4Tth-hFxhAYm"
      },
      "source": [
        "# 8.4 области видимости"
      ]
    },
    {
      "cell_type": "code",
      "metadata": {
        "colab": {
          "base_uri": "https://localhost:8080/"
        },
        "id": "3QGjX-WqhFrE",
        "outputId": "1791924a-e36f-49b7-8e74-2163dbe1a1c6"
      },
      "source": [
        "# 8.4а области видимости\r\n",
        "def my_function(inside_var):\r\n",
        "    inside_var = 99\r\n",
        "    print('внутри функции у нас переменная = ', inside_var)\r\n",
        "\r\n",
        "outside_var = 1\r\n",
        "my_function(outside_var)\r\n",
        "print('после выполнения функции с внешней переменной у нас будет:', outside_var)"
      ],
      "execution_count": 38,
      "outputs": [
        {
          "output_type": "stream",
          "text": [
            "внутри функции у нас переменная =  99\n",
            "после выполнения функции с внешней переменной у нас будет: 1\n"
          ],
          "name": "stdout"
        }
      ]
    },
    {
      "cell_type": "code",
      "metadata": {
        "colab": {
          "base_uri": "https://localhost:8080/"
        },
        "id": "cj1Ytv9udq_u",
        "outputId": "527d4e50-6eaf-465a-bbfd-612aa8f9c8d1"
      },
      "source": [
        "# 8.4б области видимости\r\n",
        "def her_function():\r\n",
        "    her_var = 99\r\n",
        "    print('внутри функции у нас переменная = ', her_var)\r\n",
        "\r\n",
        "her_var = 1\r\n",
        "her_function()\r\n",
        "print('а после выполнения функции переменная = ', her_var)"
      ],
      "execution_count": 41,
      "outputs": [
        {
          "output_type": "stream",
          "text": [
            "внутри функции у нас переменная =  99\n",
            "а после выполнения функции переменная =  1\n"
          ],
          "name": "stdout"
        }
      ]
    },
    {
      "cell_type": "markdown",
      "metadata": {
        "id": "8cK45k6LiNlb"
      },
      "source": [
        "# Практика. Примеры."
      ]
    },
    {
      "cell_type": "code",
      "metadata": {
        "colab": {
          "base_uri": "https://localhost:8080/"
        },
        "id": "isKZnx9uiOGy",
        "outputId": "f4de7821-ae41-4dae-9fc8-81caca572300"
      },
      "source": [
        "# 1: Создайте функцию, принимающую на вход имя, возраст и город проживания человека. \r\n",
        "# Функция должна возвращать строку вида «Василий, 21 год(а), проживает в городе Москва»\r\n",
        "\r\n",
        "def person_info(name, age, city):\r\n",
        "    result = f'{name}, {age} год(а), проживает в городе {city}'\r\n",
        "    return result\r\n",
        "\r\n",
        "print(person_info('Лиля', 31, 'Лондон'))"
      ],
      "execution_count": 43,
      "outputs": [
        {
          "output_type": "stream",
          "text": [
            "Лиля, 31 год(а), проживает в городе Лондон\n"
          ],
          "name": "stdout"
        }
      ]
    },
    {
      "cell_type": "code",
      "metadata": {
        "colab": {
          "base_uri": "https://localhost:8080/"
        },
        "id": "wBgM7AYUidEI",
        "outputId": "fa0a5113-5c3b-4929-f3d1-1913924497ae"
      },
      "source": [
        "# 2: Создайте функцию, принимающую на вход 3 числа и возвращающую наибольшее из них.\r\n",
        "def get_max(number1, number2, number3):\r\n",
        "    result = max([number1, number2, number3])\r\n",
        "    return result\r\n",
        "\r\n",
        "print(get_max(5, 10, 2))"
      ],
      "execution_count": 44,
      "outputs": [
        {
          "output_type": "stream",
          "text": [
            "10\n"
          ],
          "name": "stdout"
        }
      ]
    }
  ]
}
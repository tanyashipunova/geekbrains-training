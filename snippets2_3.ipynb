{
  "nbformat": 4,
  "nbformat_minor": 0,
  "metadata": {
    "colab": {
      "name": "snippets2-3.ipynb",
      "provenance": [],
      "authorship_tag": "ABX9TyPfoqfL4d9ZMUa04KiDdw7/",
      "include_colab_link": true
    },
    "kernelspec": {
      "name": "python3",
      "display_name": "Python 3"
    }
  },
  "cells": [
    {
      "cell_type": "markdown",
      "metadata": {
        "id": "view-in-github",
        "colab_type": "text"
      },
      "source": [
        "<a href=\"https://colab.research.google.com/github/tanyashipunova/geekbrains-training/blob/main/snippets2_3.ipynb\" target=\"_parent\"><img src=\"https://colab.research.google.com/assets/colab-badge.svg\" alt=\"Open In Colab\"/></a>"
      ]
    },
    {
      "cell_type": "markdown",
      "metadata": {
        "id": "U7rvu7KvUkId"
      },
      "source": [
        "# snippets from a free course on python by geekbrains.ru\r\n",
        "\r\n",
        "# задания на тренировку цикла while и условия if"
      ]
    },
    {
      "cell_type": "code",
      "metadata": {
        "id": "PFy8kOmBU9Px",
        "colab": {
          "base_uri": "https://localhost:8080/"
        },
        "outputId": "89d29402-a968-40f1-eee2-294d22eb6145"
      },
      "source": [
        "# 2.1а вывод последовательности чисел от 0 до 10\r\n",
        "number = 0\r\n",
        "while number <= 10:\r\n",
        "    print(number)\r\n",
        "    number += 1"
      ],
      "execution_count": 5,
      "outputs": [
        {
          "output_type": "stream",
          "text": [
            "0\n",
            "1\n",
            "2\n",
            "3\n",
            "4\n",
            "5\n",
            "6\n",
            "7\n",
            "8\n",
            "9\n",
            "10\n"
          ],
          "name": "stdout"
        }
      ]
    },
    {
      "cell_type": "code",
      "metadata": {
        "colab": {
          "base_uri": "https://localhost:8080/"
        },
        "id": "JzZ4olnlVQ0I",
        "outputId": "613122d8-db31-4575-aff1-19af5ffd4876"
      },
      "source": [
        "# 2.1б вывод последовательности чисел от 0 до 10\r\n",
        "number = 0\r\n",
        "while number <= 10:\r\n",
        "    print(number)\r\n",
        "    number += 1\r\n",
        "else:\r\n",
        "    print('end')"
      ],
      "execution_count": 6,
      "outputs": [
        {
          "output_type": "stream",
          "text": [
            "0\n",
            "1\n",
            "2\n",
            "3\n",
            "4\n",
            "5\n",
            "6\n",
            "7\n",
            "8\n",
            "9\n",
            "10\n",
            "end\n"
          ],
          "name": "stdout"
        }
      ]
    },
    {
      "cell_type": "code",
      "metadata": {
        "colab": {
          "base_uri": "https://localhost:8080/"
        },
        "id": "3YctjRp7VYTW",
        "outputId": "535a7d79-9d72-41fe-d259-520e3cfc81e1"
      },
      "source": [
        "# 2.1в вывод последовательности чисел от 0 до 10, но остановка на цифре, например, 5\r\n",
        "number = 0\r\n",
        "while number <= 10:\r\n",
        "    print(number)\r\n",
        "    number += 1\r\n",
        "    if number == 5:\r\n",
        "        break\r\n",
        "else:\r\n",
        "    print('early end')\r\n",
        "print('end')"
      ],
      "execution_count": 8,
      "outputs": [
        {
          "output_type": "stream",
          "text": [
            "0\n",
            "1\n",
            "2\n",
            "3\n",
            "4\n",
            "end\n"
          ],
          "name": "stdout"
        }
      ]
    },
    {
      "cell_type": "code",
      "metadata": {
        "colab": {
          "base_uri": "https://localhost:8080/"
        },
        "id": "Y49wRfjSWMtR",
        "outputId": "ff0f23f3-0def-47cf-834b-c90f4636b5a4"
      },
      "source": [
        "# 2.2 вывод последовательности чисел от 0 до n\r\n",
        "number = 0\r\n",
        "n = int(input('введите предел чисел n и нажмите клавишу enter: '))\r\n",
        "while number <= n:\r\n",
        "    print(number)\r\n",
        "    number += 1"
      ],
      "execution_count": 12,
      "outputs": [
        {
          "output_type": "stream",
          "text": [
            "введите предел чисел n и нажмите клавишу enter: 6\n",
            "0\n",
            "1\n",
            "2\n",
            "3\n",
            "4\n",
            "5\n",
            "6\n"
          ],
          "name": "stdout"
        }
      ]
    },
    {
      "cell_type": "code",
      "metadata": {
        "colab": {
          "base_uri": "https://localhost:8080/"
        },
        "id": "d9Q2gIUSWZOa",
        "outputId": "f1462825-0b92-4047-f300-48db1f25dbec"
      },
      "source": [
        "# 2.3а вывод последовательности четных чисел от 0 до n\r\n",
        "number = 0\r\n",
        "n = int(input('введите предел чисел n и нажмите клавишу enter: '))\r\n",
        "while number <= n:\r\n",
        "    if number % 2 == 0:\r\n",
        "        print(number)\r\n",
        "    number += 1"
      ],
      "execution_count": 19,
      "outputs": [
        {
          "output_type": "stream",
          "text": [
            "введите предел чисел n и нажмите клавишу enter: 8\n",
            "0\n",
            "2\n",
            "4\n",
            "6\n",
            "8\n"
          ],
          "name": "stdout"
        }
      ]
    },
    {
      "cell_type": "code",
      "metadata": {
        "colab": {
          "base_uri": "https://localhost:8080/"
        },
        "id": "DqHOMIfmW06i",
        "outputId": "6caac8de-6342-461c-f187-9aa1be70f743"
      },
      "source": [
        "# 2.3б вывод последовательности четных чисел от 0 до n\r\n",
        "number = 0\r\n",
        "n = int(input('введите предел чисел n и нажмите клавишу enter: '))\r\n",
        "while number <= n:\r\n",
        "    if number % 2 != 0:\r\n",
        "        number += 1   \r\n",
        "        continue\r\n",
        "    print(number)\r\n",
        "    number += 1"
      ],
      "execution_count": 16,
      "outputs": [
        {
          "output_type": "stream",
          "text": [
            "введите предел чисел n и нажмите клавишу enter: 8\n",
            "0\n",
            "2\n",
            "4\n",
            "6\n",
            "8\n"
          ],
          "name": "stdout"
        }
      ]
    },
    {
      "cell_type": "code",
      "metadata": {
        "colab": {
          "base_uri": "https://localhost:8080/"
        },
        "id": "vdXjXNlUXzPd",
        "outputId": "274534ee-9a67-4488-da02-0acbfa42e374"
      },
      "source": [
        "# 2.4а вывод последовательности НЕчетных чисел от 0 до n\r\n",
        "number = 0\r\n",
        "n = int(input('введите предел чисел n: '))\r\n",
        "while number <= n:\r\n",
        "    if number % 2 == 0:\r\n",
        "        number += 1   \r\n",
        "        continue\r\n",
        "    print(number)\r\n",
        "    number += 1"
      ],
      "execution_count": 17,
      "outputs": [
        {
          "output_type": "stream",
          "text": [
            "введите предел чисел n: 8\n",
            "1\n",
            "3\n",
            "5\n",
            "7\n"
          ],
          "name": "stdout"
        }
      ]
    },
    {
      "cell_type": "code",
      "metadata": {
        "colab": {
          "base_uri": "https://localhost:8080/"
        },
        "id": "2eCQpyODYEdd",
        "outputId": "b0d32b58-2761-4f7a-9e51-86b3c8df47f9"
      },
      "source": [
        "# 2.4б вывод последовательности НЕчетных чисел от 0 до n\r\n",
        "number = 0\r\n",
        "n = int(input('введите предел чисел n: '))\r\n",
        "while number <= n:\r\n",
        "    if number % 2 != 0:\r\n",
        "        print(number)\r\n",
        "    number += 1"
      ],
      "execution_count": 18,
      "outputs": [
        {
          "output_type": "stream",
          "text": [
            "введите предел чисел n: 8\n",
            "1\n",
            "3\n",
            "5\n",
            "7\n"
          ],
          "name": "stdout"
        }
      ]
    },
    {
      "cell_type": "code",
      "metadata": {
        "colab": {
          "base_uri": "https://localhost:8080/"
        },
        "id": "ahzdK1sfZCEi",
        "outputId": "fec9a3aa-498c-40b9-f694-265538fa80b4"
      },
      "source": [
        "# 2.5а задавать вопрос, пока не введен правильный ответ\r\n",
        "name = None\r\n",
        "while name != 'Гвидо':\r\n",
        "    name = input('кто создал python?')\r\n",
        "    if name == 'Гвидо':\r\n",
        "\t      break\r\n",
        "    print('нет. попробуйте еще раз.')\r\n",
        "print('верно')"
      ],
      "execution_count": 21,
      "outputs": [
        {
          "output_type": "stream",
          "text": [
            "кто создал python?я\n",
            "нет. попробуйте еще раз.\n",
            "кто создал python?Гвидо\n",
            "верно\n"
          ],
          "name": "stdout"
        }
      ]
    },
    {
      "cell_type": "code",
      "metadata": {
        "colab": {
          "base_uri": "https://localhost:8080/"
        },
        "id": "KoLBhVHTZK5J",
        "outputId": "85916d68-62c5-4a8b-89c7-5a1840523bc6"
      },
      "source": [
        "# 2.5б задавать вопрос, пока не введен правильный ответ\r\n",
        "name = None\r\n",
        "while True:\r\n",
        "    name = input('кто создал python?')\r\n",
        "    if name == 'Гвидо':\r\n",
        "\t      break\r\n",
        "    print('нет. попробуйте еще раз.')\r\n",
        "print('верно')"
      ],
      "execution_count": 22,
      "outputs": [
        {
          "output_type": "stream",
          "text": [
            "кто создал python?он\n",
            "нет. попробуйте еще раз.\n",
            "кто создал python?Гвидо\n",
            "верно\n"
          ],
          "name": "stdout"
        }
      ]
    },
    {
      "cell_type": "code",
      "metadata": {
        "colab": {
          "base_uri": "https://localhost:8080/"
        },
        "id": "8ME8T1gPZinK",
        "outputId": "f4359358-11b2-420f-b06f-14da97714c2c"
      },
      "source": [
        "# 3.1 Запросите от пользователя число, сохраните в переменную, прибавьте к числу 2 и выведите результат на экран.\r\n",
        "number = int(input('Введите число: '))\r\n",
        "print('а если прибавить 2 , то получим ', number + 2)"
      ],
      "execution_count": 24,
      "outputs": [
        {
          "output_type": "stream",
          "text": [
            "Введите число: 5\n",
            "а если прибавить 2 , то получим  7\n"
          ],
          "name": "stdout"
        }
      ]
    },
    {
      "cell_type": "code",
      "metadata": {
        "colab": {
          "base_uri": "https://localhost:8080/"
        },
        "id": "-9uOo8vfaBvu",
        "outputId": "c08b35da-6cdb-453e-b569-6babeff0c0e3"
      },
      "source": [
        "# 3.2а Используя цикл, запрашивайте у пользователя число, пока оно не станет больше 0, но меньше 10. После того, как пользователь введет корректное число, возведите его в степень 2 и выведите на экран.\r\n",
        "number = int(input('Введите число больше 0, но меньше 10: '))\r\n",
        "while number<=0 or number>=10:\r\n",
        "    print('Вы ввели неверное число.')\r\n",
        "    number = int(input('Введите число больше 0, но меньше 10: '))\r\n",
        "else: \r\n",
        "    print ('а если возвести его в степень 2, получим ', number**2)"
      ],
      "execution_count": 25,
      "outputs": [
        {
          "output_type": "stream",
          "text": [
            "Введите число больше 0, но меньше 10: 5\n",
            "а если возвести его в степень 2, получим  25\n"
          ],
          "name": "stdout"
        }
      ]
    },
    {
      "cell_type": "code",
      "metadata": {
        "colab": {
          "base_uri": "https://localhost:8080/"
        },
        "id": "jH-yQexUaEVx",
        "outputId": "74c54605-6526-4c29-fb48-ef0518b0b976"
      },
      "source": [
        "# 3.2б другой вариант кода\r\n",
        "while True:\r\n",
        "    number = int(input(\"Введите число от 0 до 10: \"))\r\n",
        "    if number >= 0 and number <= 10:\r\n",
        "        print(\"а если возвести его в степень 2, получим \", number ** 2)\r\n",
        "        break\r\n",
        "    else:\r\n",
        "        print(\"Надо ввести число больше 0 и меньше 10.\")"
      ],
      "execution_count": 27,
      "outputs": [
        {
          "output_type": "stream",
          "text": [
            "Введите число от 0 до 10: 5\n",
            "а если возвести его в степень 2, получим  25\n"
          ],
          "name": "stdout"
        }
      ]
    },
    {
      "cell_type": "code",
      "metadata": {
        "colab": {
          "base_uri": "https://localhost:8080/"
        },
        "id": "-kc_C4-Pa0Hq",
        "outputId": "faf69473-bc5a-42d8-ab9a-6f815d183143"
      },
      "source": [
        "\"\"\"\r\n",
        "3.3 Создайте программу “Медицинская анкета”, где вы запросите у пользователя следующие данные: имя, фамилия, возраст и вес.\r\n",
        "Выведите результат согласно которому:\r\n",
        "Пациент в хорошем состоянии, если ему до 30 лет и вес от 50 и до 120 кг,\r\n",
        "Пациенту требуется заняться собой, если ему более 30 и вес меньше 50 или больше 120 кг\r\n",
        "Пациенту требуется врачебный осмотр, если ему более 40 и вес менее 50 или больше 120 кг.\r\n",
        "В остальных вариантах человек в нормальном состоянии.\r\n",
        "\"\"\"\r\n",
        "name = input(\"Введите свое имя: \")\r\n",
        "surname = input(\"Введите свою фамилию: \")\r\n",
        "age = int(input(\"Введите свой возраст: \"))\r\n",
        "weight = int(input(\"Введите свой вес: \"))\r\n",
        "\r\n",
        "if age <= 30 and (weight >= 50 and weight <= 120):\r\n",
        "    print(name, surname, age, 'год', 'вес',  weight, ' - у вас хорошее состояние.')\r\n",
        "elif (age > 30 and age <= 40) and (weight < 50 or weight > 120):\r\n",
        "    print(name, surname, age, 'год', 'вес',  weight, ' - вам следует заняться собой.')\r\n",
        "elif age > 40 and (weight < 50 or weight > 120):\r\n",
        "    print(name, surname, age, 'год', 'вес',  weight, ' - вам требуется врачебный осмотр.')\r\n",
        "else:\r\n",
        "    print(name, surname, age, 'год', 'вес',  weight, ' - у вас нормальное состояние.')"
      ],
      "execution_count": 33,
      "outputs": [
        {
          "output_type": "stream",
          "text": [
            "Введите свое имя: а\n",
            "Введите свою фамилию: б\n",
            "Введите свой возраст: 40\n",
            "Введите свой вес: 60\n",
            "а б 40 год вес 60  - у вас нормальное состояние.\n"
          ],
          "name": "stdout"
        }
      ]
    }
  ]
}